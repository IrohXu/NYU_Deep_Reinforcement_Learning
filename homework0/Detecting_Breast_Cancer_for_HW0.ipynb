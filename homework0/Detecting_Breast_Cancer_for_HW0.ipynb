{
  "nbformat": 4,
  "nbformat_minor": 0,
  "metadata": {
    "colab": {
      "name": "“Detecting Breast Cancer” for HW0 author: Xu Cao",
      "provenance": [],
      "collapsed_sections": []
    },
    "kernelspec": {
      "name": "python3",
      "display_name": "Python 3"
    },
    "language_info": {
      "name": "python"
    }
  },
  "cells": [
    {
      "cell_type": "markdown",
      "metadata": {
        "id": "YPI8xLReJiw6"
      },
      "source": [
        "# Detecting Breast Cancer\n",
        "\n",
        "One interesting application of machine learning is in the area of medical diagnoses. Implement Neural Network in python to classify the data into Benign or Malignant for the Wisconsin Diagnostic Breast Cancer (WDBC) dataset. \n",
        "\n",
        "### Things to keep in mind: \n",
        "* How will you choose the features? \n",
        "* How will you train, validate, and test your model?\n",
        "* How will you overcome overfitting?\n",
        "\n",
        "### Write-up\n",
        "In your write-up, please attach training curves, final losses, and visualizations of errors made by the trained model, along with a description of the methods/tricks you tried to improve performance.\n"
      ]
    },
    {
      "cell_type": "code",
      "metadata": {
        "id": "KT_BTBDmzHoS"
      },
      "source": [
        "import numpy as np\n",
        "import pandas as pd\n",
        "\n",
        "import torch"
      ],
      "execution_count": null,
      "outputs": []
    },
    {
      "cell_type": "code",
      "metadata": {
        "id": "qIkw-BFhzRMb"
      },
      "source": [
        "DATASET_URL = 'http://archive.ics.uci.edu/ml/machine-learning-databases/breast-cancer-wisconsin/breast-cancer-wisconsin.data'\n",
        "COLUMN_NAMES = [\n",
        "  'Sample code number',\n",
        "  'Clump Thickness',\n",
        "  'Uniformity of Cell Size',\n",
        "  'Uniformity of Cell Shape',\n",
        "  'Marginal Adhesion',\n",
        "  'Single Epithelial Cell Size',\n",
        "  'Bare Nuclei',\n",
        "  'Bland Chromatin',\n",
        "  'Normal Nucleoli',\n",
        "  'Mitoses',\n",
        "  'Class',\n",
        "]\n",
        "dataset = pd.read_csv(DATASET_URL, names=COLUMN_NAMES)"
      ],
      "execution_count": null,
      "outputs": []
    },
    {
      "cell_type": "markdown",
      "metadata": {
        "id": "pWfRoHDPIcAj"
      },
      "source": [
        "## Dataset description\n",
        "\n",
        "\n",
        "|  Attribute               |     \t \tDomain |\n",
        "|--- | ---|\n",
        "|   1. Sample code number |           \tid number|\n",
        "|   2. Clump Thickness     |          \t1 - 10|\n",
        "|   3. Uniformity of Cell Size |      \t1 - 10|\n",
        "|   4. Uniformity of Cell Shape |     \t1 - 10|\n",
        "|   5. Marginal Adhesion         |    \t1 - 10|\n",
        "|   6. Single Epithelial Cell Size |  \t1 - 10|\n",
        "|   7. Bare Nuclei       |            \t\t1 - 10\n",
        "|   8. Bland Chromatin  |             \t\t1 - 10\n",
        "|   9. Normal Nucleoli |              \t\t1 - 10\n",
        "|  10. Mitoses   |                    \t\t1 - 10\n",
        "|  11. Class:    |                    \t\t(2 for benign, 4 for malignant)|"
      ]
    },
    {
      "cell_type": "code",
      "metadata": {
        "colab": {
          "base_uri": "https://localhost:8080/",
          "height": 220
        },
        "id": "dR4jNCQmzczk",
        "outputId": "a1d35132-d6d4-4b5d-906f-ce85d4889527"
      },
      "source": [
        "dataset.head()"
      ],
      "execution_count": null,
      "outputs": [
        {
          "output_type": "execute_result",
          "data": {
            "text/html": [
              "<div>\n",
              "<style scoped>\n",
              "    .dataframe tbody tr th:only-of-type {\n",
              "        vertical-align: middle;\n",
              "    }\n",
              "\n",
              "    .dataframe tbody tr th {\n",
              "        vertical-align: top;\n",
              "    }\n",
              "\n",
              "    .dataframe thead th {\n",
              "        text-align: right;\n",
              "    }\n",
              "</style>\n",
              "<table border=\"1\" class=\"dataframe\">\n",
              "  <thead>\n",
              "    <tr style=\"text-align: right;\">\n",
              "      <th></th>\n",
              "      <th>Sample code number</th>\n",
              "      <th>Clump Thickness</th>\n",
              "      <th>Uniformity of Cell Size</th>\n",
              "      <th>Uniformity of Cell Shape</th>\n",
              "      <th>Marginal Adhesion</th>\n",
              "      <th>Single Epithelial Cell Size</th>\n",
              "      <th>Bare Nuclei</th>\n",
              "      <th>Bland Chromatin</th>\n",
              "      <th>Normal Nucleoli</th>\n",
              "      <th>Mitoses</th>\n",
              "      <th>Class</th>\n",
              "    </tr>\n",
              "  </thead>\n",
              "  <tbody>\n",
              "    <tr>\n",
              "      <th>0</th>\n",
              "      <td>1000025</td>\n",
              "      <td>5</td>\n",
              "      <td>1</td>\n",
              "      <td>1</td>\n",
              "      <td>1</td>\n",
              "      <td>2</td>\n",
              "      <td>1</td>\n",
              "      <td>3</td>\n",
              "      <td>1</td>\n",
              "      <td>1</td>\n",
              "      <td>2</td>\n",
              "    </tr>\n",
              "    <tr>\n",
              "      <th>1</th>\n",
              "      <td>1002945</td>\n",
              "      <td>5</td>\n",
              "      <td>4</td>\n",
              "      <td>4</td>\n",
              "      <td>5</td>\n",
              "      <td>7</td>\n",
              "      <td>10</td>\n",
              "      <td>3</td>\n",
              "      <td>2</td>\n",
              "      <td>1</td>\n",
              "      <td>2</td>\n",
              "    </tr>\n",
              "    <tr>\n",
              "      <th>2</th>\n",
              "      <td>1015425</td>\n",
              "      <td>3</td>\n",
              "      <td>1</td>\n",
              "      <td>1</td>\n",
              "      <td>1</td>\n",
              "      <td>2</td>\n",
              "      <td>2</td>\n",
              "      <td>3</td>\n",
              "      <td>1</td>\n",
              "      <td>1</td>\n",
              "      <td>2</td>\n",
              "    </tr>\n",
              "    <tr>\n",
              "      <th>3</th>\n",
              "      <td>1016277</td>\n",
              "      <td>6</td>\n",
              "      <td>8</td>\n",
              "      <td>8</td>\n",
              "      <td>1</td>\n",
              "      <td>3</td>\n",
              "      <td>4</td>\n",
              "      <td>3</td>\n",
              "      <td>7</td>\n",
              "      <td>1</td>\n",
              "      <td>2</td>\n",
              "    </tr>\n",
              "    <tr>\n",
              "      <th>4</th>\n",
              "      <td>1017023</td>\n",
              "      <td>4</td>\n",
              "      <td>1</td>\n",
              "      <td>1</td>\n",
              "      <td>3</td>\n",
              "      <td>2</td>\n",
              "      <td>1</td>\n",
              "      <td>3</td>\n",
              "      <td>1</td>\n",
              "      <td>1</td>\n",
              "      <td>2</td>\n",
              "    </tr>\n",
              "  </tbody>\n",
              "</table>\n",
              "</div>"
            ],
            "text/plain": [
              "   Sample code number  Clump Thickness  ...  Mitoses  Class\n",
              "0             1000025                5  ...        1      2\n",
              "1             1002945                5  ...        1      2\n",
              "2             1015425                3  ...        1      2\n",
              "3             1016277                6  ...        1      2\n",
              "4             1017023                4  ...        1      2\n",
              "\n",
              "[5 rows x 11 columns]"
            ]
          },
          "metadata": {},
          "execution_count": 3
        }
      ]
    },
    {
      "cell_type": "code",
      "metadata": {
        "id": "BHWqQzEyISgp"
      },
      "source": [
        "# Normalize your dataset, and split your dataset between test, train, and validation\n",
        "\n",
        "dataset['Clump Thickness'] = dataset['Clump Thickness'] / np.max(dataset['Clump Thickness'])\n",
        "dataset['Uniformity of Cell Size'] = dataset['Uniformity of Cell Size'] / np.max(dataset['Uniformity of Cell Size'])\n",
        "dataset['Uniformity of Cell Shape'] = dataset['Uniformity of Cell Shape'] / np.max(dataset['Uniformity of Cell Shape'])\n",
        "dataset['Marginal Adhesion'] = dataset['Marginal Adhesion'] / np.max(dataset['Marginal Adhesion'])\n",
        "dataset['Single Epithelial Cell Size'] = dataset['Single Epithelial Cell Size'] / np.max(dataset['Single Epithelial Cell Size'])\n",
        "dataset['Bare Nuclei'] = dataset['Bare Nuclei'].replace('?', 0)\n",
        "dataset['Bare Nuclei'] = pd.to_numeric(dataset['Bare Nuclei'])\n",
        "dataset['Bare Nuclei'] = dataset['Bare Nuclei'] / np.max(dataset['Bare Nuclei'])\n",
        "dataset['Bland Chromatin'] = dataset['Bland Chromatin'] / np.max(dataset['Bland Chromatin'])\n",
        "dataset['Normal Nucleoli'] = dataset['Normal Nucleoli'] / np.max(dataset['Normal Nucleoli'])\n",
        "dataset['Mitoses'] = dataset['Mitoses'] / np.max(dataset['Mitoses'])\n",
        "dataset['Class'] = dataset['Class'].replace(2, 0)\n",
        "dataset['Class'] = dataset['Class'].replace(4, 1)"
      ],
      "execution_count": null,
      "outputs": []
    },
    {
      "cell_type": "code",
      "metadata": {
        "id": "EjvLqhHat35m"
      },
      "source": [
        "dataset = dataset.drop('Sample code number', axis=1)   # drop the unused sample code number column."
      ],
      "execution_count": null,
      "outputs": []
    },
    {
      "cell_type": "code",
      "metadata": {
        "id": "vWE74gTmxw-A"
      },
      "source": [
        "train_val_data = dataset.sample(frac=0.8, random_state=0, axis=0)   # 20% data for testing\n",
        "test_data = dataset[~dataset.index.isin(train_val_data.index)]\n",
        "train_data = train_val_data.sample(frac=0.9, random_state=0, axis=0)  # 72% data for training\n",
        "val_data = train_val_data[~train_val_data.index.isin(train_data.index)]   # 8% data for validation"
      ],
      "execution_count": null,
      "outputs": []
    },
    {
      "cell_type": "code",
      "metadata": {
        "id": "I3gzn6nNz2Wl"
      },
      "source": [
        "from torch.autograd import Variable \n",
        "\n",
        "train_x = torch.from_numpy(train_data[dataset.columns[0:9]].values).type(torch.FloatTensor)\n",
        "val_x = torch.from_numpy(val_data[dataset.columns[0:9]].values).type(torch.FloatTensor) \n",
        "test_x = torch.from_numpy(test_data[dataset.columns[0:9]].values).type(torch.FloatTensor) \n",
        "train_y = torch.from_numpy(train_data[dataset.columns[9]].values).type(torch.LongTensor)\n",
        "val_y = torch.from_numpy(val_data[dataset.columns[9]].values).type(torch.LongTensor)\n",
        "test_y = torch.from_numpy(test_data[dataset.columns[9]].values).type(torch.LongTensor)\n",
        "train_x, train_y = Variable(train_x), Variable(train_y) \n",
        "test_x, test_y = Variable(test_x), Variable(test_y) \n",
        "val_x, val_y = Variable(val_x), Variable(val_y) "
      ],
      "execution_count": null,
      "outputs": []
    },
    {
      "cell_type": "code",
      "metadata": {
        "id": "8pmPKtEmH9Zq"
      },
      "source": [
        "# Define you model here\n",
        "\n",
        "class FCNet(torch.nn.Module):\n",
        "  '''\n",
        "  Use a shallow fully-connected network\n",
        "  '''\n",
        "  def __init__(self, n_feature, n_hidden1, n_hidden2, n_output):\n",
        "    super(FCNet, self).__init__()\n",
        "    self.hidden1 = torch.nn.Linear(n_feature, n_hidden1)\n",
        "    self.hidden2 = torch.nn.Linear(n_hidden1, n_hidden2)\n",
        "    self.out = torch.nn.Linear(n_hidden2, n_output)\n",
        "    self.relu = torch.nn.ReLU()\n",
        "    self.dropout = torch.nn.Dropout(0.25)\n",
        "  \n",
        "  def forward(self, x):\n",
        "    x = self.relu(self.hidden1(x))\n",
        "    x = self.dropout(x)\n",
        "    x = self.relu(self.hidden2(x))\n",
        "    x = self.dropout(x)\n",
        "    x = self.out(x)\n",
        "    return x\n",
        "\n",
        "SimpleModel = FCNet(9, 32, 16, 2)"
      ],
      "execution_count": null,
      "outputs": []
    },
    {
      "cell_type": "code",
      "metadata": {
        "id": "ozjO8kqmIBoJ",
        "colab": {
          "base_uri": "https://localhost:8080/"
        },
        "outputId": "c19f7dac-887a-4dc8-a7e7-654324a9e97d"
      },
      "source": [
        "# Train your model\n",
        "\n",
        "LR = 0.001\n",
        "EPOCHS = 500\n",
        "BATCH_SIZE = 10\n",
        "\n",
        "optimizer = torch.optim.SGD(SimpleModel.parameters(), lr = LR)   # use SGD with learning rate 0.1\n",
        "loss_fn = torch.nn.CrossEntropyLoss()\n",
        "loss_train = []\n",
        "loss_val = []\n",
        "acc_val = []\n",
        "epochs = []\n",
        "min_valloss = np.inf\n",
        "for epoch in range(EPOCHS):\n",
        "  epochs.append(epoch)\n",
        "  loss_array = []\n",
        "  # train\n",
        "  for i in range(0, train_x.shape[0], BATCH_SIZE):\n",
        "    if(i+BATCH_SIZE > train_x.shape[0]):\n",
        "      x = train_x[i:train_x.shape[0]]\n",
        "      y = train_y[i:train_x.shape[0]]\n",
        "    else:\n",
        "      x = train_x[i:i+BATCH_SIZE]\n",
        "      y = train_y[i:i+BATCH_SIZE]\n",
        "    out = SimpleModel(x)\n",
        "    loss = loss_fn(out, y)\n",
        "    loss_array.append(float(loss))\n",
        "    optimizer.zero_grad()\n",
        "    loss.backward()\n",
        "    optimizer.step()\n",
        "  loss = np.mean(np.array(loss_array))\n",
        "  loss_train.append(loss)\n",
        "  \n",
        "  # validation\n",
        "  x = val_x\n",
        "  y = val_y\n",
        "  out = SimpleModel(x)\n",
        "  _, preds = torch.max(out, 1)\n",
        "  val_accuracy = np.sum(np.array(preds) == np.array(y)) / y.shape[0]\n",
        "  # print(val_accuracy)\n",
        "  acc_val.append(val_accuracy)\n",
        "  loss = loss_fn(out, y)\n",
        "  loss_val.append(float(loss))\n",
        "  if(float(loss) < min_valloss):\n",
        "    min_valloss = float(loss)\n",
        "    BestModel = SimpleModel  #  storage for best model\n",
        "print(\"The best loss (final loss) for validation set is: \" + str(min_valloss))\n",
        "print(BestModel)"
      ],
      "execution_count": null,
      "outputs": [
        {
          "output_type": "stream",
          "name": "stdout",
          "text": [
            "The best loss (final loss) for validation set is: 0.11944297701120377\n",
            "FCNet(\n",
            "  (hidden1): Linear(in_features=9, out_features=32, bias=True)\n",
            "  (hidden2): Linear(in_features=32, out_features=16, bias=True)\n",
            "  (out): Linear(in_features=16, out_features=2, bias=True)\n",
            "  (relu): ReLU()\n",
            "  (dropout): Dropout(p=0.25, inplace=False)\n",
            ")\n"
          ]
        }
      ]
    },
    {
      "cell_type": "code",
      "metadata": {
        "id": "MyTLKGY3IDgM",
        "colab": {
          "base_uri": "https://localhost:8080/"
        },
        "outputId": "4d0c57ea-9428-498d-c6c4-4d6ae133b73e"
      },
      "source": [
        "# Test your model \n",
        "\n",
        "x = test_x\n",
        "y = test_y\n",
        "out = BestModel(x)\n",
        "test_loss = float(loss_fn(out, y))\n",
        "_, preds = torch.max(out, 1)\n",
        "test_accuracy = np.sum(np.array(preds) == np.array(y)) / y.shape[0]\n",
        "print(\"The test accuracy is: \" + str(test_accuracy))\n",
        "print(\"The test loss is: \" + str(test_loss))"
      ],
      "execution_count": null,
      "outputs": [
        {
          "output_type": "stream",
          "name": "stdout",
          "text": [
            "The test accuracy is: 0.9642857142857143\n",
            "The test loss is: 0.09724803268909454\n"
          ]
        }
      ]
    },
    {
      "cell_type": "code",
      "metadata": {
        "colab": {
          "base_uri": "https://localhost:8080/",
          "height": 312
        },
        "id": "NPxR6_pOoJQY",
        "outputId": "6992aa3e-5db5-4416-b5d1-71fe76c51251"
      },
      "source": [
        "# Draw training curves, and visualizations of errors made by the trained model\n",
        "\n",
        "import matplotlib.pyplot as plt\n",
        "\n",
        "plt.plot(epochs, loss_train, c='r')\n",
        "plt.plot(epochs, loss_val, c='b')\n",
        "plt.xlabel('number of epochs')\n",
        "plt.ylabel('Loss')\n",
        "plt.legend([\"Train\",\"Validation\"],loc='upper right')\n",
        "plt.title('Training/validation loss vs number of epochs')"
      ],
      "execution_count": null,
      "outputs": [
        {
          "output_type": "execute_result",
          "data": {
            "text/plain": [
              "Text(0.5, 1.0, 'Training/validation loss vs number of epochs')"
            ]
          },
          "metadata": {},
          "execution_count": 11
        },
        {
          "output_type": "display_data",
          "data": {
            "image/png": "[encoded data removed]",
            "text/plain": [
              "<Figure size 432x288 with 1 Axes>"
            ]
          },
          "metadata": {
            "needs_background": "light"
          }
        }
      ]
    },
    {
      "cell_type": "code",
      "metadata": {
        "colab": {
          "base_uri": "https://localhost:8080/",
          "height": 312
        },
        "id": "dlBkcbWyq4l4",
        "outputId": "2d4007f0-b197-4d04-ec7c-bc3d48a7d390"
      },
      "source": [
        "plt.plot(epochs, acc_val, c='b')\n",
        "plt.xlabel('number of epochs')\n",
        "plt.ylabel('Accuracy')\n",
        "plt.title('Validation accuracy vs number of epochs')"
      ],
      "execution_count": null,
      "outputs": [
        {
          "output_type": "execute_result",
          "data": {
            "text/plain": [
              "Text(0.5, 1.0, 'Validation accuracy vs number of epochs')"
            ]
          },
          "metadata": {},
          "execution_count": 12
        },
        {
          "output_type": "display_data",
          "data": {
            "image/png": "[encoded data removed]",
            "text/plain": [
              "<Figure size 432x288 with 1 Axes>"
            ]
          },
          "metadata": {
            "needs_background": "light"
          }
        }
      ]
    }
  ]
}